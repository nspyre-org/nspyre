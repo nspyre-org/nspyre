{
 "cells": [
  {
   "cell_type": "code",
   "execution_count": null,
   "metadata": {},
   "outputs": [],
   "source": [
    "%gui qt5\n",
    "from nspyre import *\n",
    "from nspyre.instrument_manager import Instrument_Manager\n",
    "from nspyre.widgets.launcher import SpyreletLauncherWidget, Combined_Launcher"
   ]
  },
  {
   "cell_type": "code",
   "execution_count": null,
   "metadata": {},
   "outputs": [],
   "source": [
    "%gui qt5 #Sometimes jupyters needs a few runs of this commands for some weird reason"
   ]
  },
  {
   "cell_type": "code",
   "execution_count": null,
   "metadata": {},
   "outputs": [],
   "source": [
    "%gui qt5\n",
    "# Add all the instruments\n",
    "m = Instrument_Manager(timeout=10000)\n",
    "locals().update(m.get_devices())\n",
    "print('Available devices: ', list(m.get_devices().keys()))\n",
    "\n",
    "# Add all the spyrelets\n",
    "all_spyrelets = load_all_spyrelets()\n",
    "locals().update(all_spyrelets)\n",
    "print('Available spyrelets: ', list(all_spyrelets.keys()))\n",
    "\n",
    "# Clean up the mongo database if desired\n",
    "# unload_all_spyrelets(except_list=list(all_spyrelets.keys()))\n",
    "\n",
    "# Make a launcher\n",
    "launcher = Combined_Launcher(spyrelets=all_spyrelets)"
   ]
  }
 ],
 "metadata": {
  "kernelspec": {
   "display_name": "Python 3",
   "language": "python",
   "name": "python3"
  },
  "language_info": {
   "codemirror_mode": {
    "name": "ipython",
    "version": 3
   },
   "file_extension": ".py",
   "mimetype": "text/x-python",
   "name": "python",
   "nbconvert_exporter": "python",
   "pygments_lexer": "ipython3",
   "version": "3.6.8"
  }
 },
 "nbformat": 4,
 "nbformat_minor": 2
}
